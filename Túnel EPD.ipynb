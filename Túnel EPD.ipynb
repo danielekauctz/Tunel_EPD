{
 "cells": [
  {
   "cell_type": "markdown",
   "id": "5030a50f",
   "metadata": {},
   "source": [
    "Universidade Federal do Rio Grande do Sul (UFRGS) <br>\n",
    "Programa de Pós-Graduação em Engenharia Civil (PPGEC) <br>\n",
    "PEC00100: Tópicos de Problemas de Interação Solo-Estrutura <br>\n",
    "\n",
    "_Daniele Kauctz Monteiro_<br>\n",
    "[(GitHub)](https://github.com/danielekauctz) | <a href=\"mailto:danielekauctz@hotmail.com\">[(E-mail)]</a>\n",
    "________________________________________________________________________________________________________________________________\n",
    "\n",
    "# Análise de um Túnel no Estado Plano de Deformações (EPD)\n",
    "\n",
    "[0.   Inicialização do Jupyter notebook](#section_0)  \n",
    "[1.   Definição da solução analítica em Elasticidade e Plasticidade](#section_1)  \n",
    "[2.   Análise do túnel ](#section_2) <br> \n",
    "   [2.1. Solução Elástica](#section_21) <br>\n",
    "   [2.2. Solução Elasto-plástica](#section_22) <br>\n",
    "[3.   Solução numérica](#section_3)  \n",
    "   [3.1. Comparação das soluções analíticas e numéricas em Elasticidade](#section_31)  \n",
    "[4.   Referências](#section_4) "
   ]
  },
  {
   "cell_type": "markdown",
   "id": "bb70fb22",
   "metadata": {},
   "source": [
    "## 0. Inicialização do Jupyter notebook <a name=\"section_0\"></a>\n",
    "Nesse Jupyter notebook, são utilizados os seguintes repositórios e configurações de plotagem:"
   ]
  },
  {
   "cell_type": "code",
   "execution_count": null,
   "id": "46ff9018",
   "metadata": {},
   "outputs": [],
   "source": [
    "# Repositórios\n",
    "import matplotlib.pyplot as plt\n",
    "import pandas as pd\n",
    "import numpy as np\n",
    "import collections\n",
    "import warnings\n",
    "warnings.filterwarnings(\"ignore\")\n",
    "import matplotlib\n",
    "\n",
    "# Plotagem\n",
    "from matplotlib import rc\n",
    "rc('font',**{'family':'Times New Roman','size' :12})\n",
    "matplotlib.rcParams['axes.unicode_minus'] = False\n",
    "matplotlib.rc('text', usetex=True)\n",
    "matplotlib.rc('axes', labelsize=12)\n",
    "matplotlib.rc('xtick', labelsize=12) \n",
    "matplotlib.rc('ytick', labelsize=12)\n",
    "matplotlib.rc('lines', lw=1.0,color='k')\n",
    "matplotlib.rc('axes',lw=0.75)\n",
    "matplotlib.rc('legend', fontsize=10)"
   ]
  },
  {
   "cell_type": "markdown",
   "id": "45ad76d9",
   "metadata": {},
   "source": [
    "## 1. Definição da solução analítica em Elasticidade e Plasticidade <a name=\"section_1\"></a> \n",
    "\n",
    "A solução analítica em elasticidade (deslocamento radial $u$ e tensões $\\sigma_{rr}$, $\\sigma_{\\theta\\theta}$ e $\\sigma_{zz}$) de um túnel no estado plano de deformações é definifida a partir das seguintes propriedades: raio interno ($R_i$), raio externo ($R_e$), módulo de elasticidade ($E$), coeficiente de Poison ($\\nu$), coesão ($c$), pressão do maciço ($P_\\infty$), pressão  interna ($P_i$) e raio ($r$). Sendo assim:"
   ]
  },
  {
   "cell_type": "code",
   "execution_count": null,
   "id": "7803416a",
   "metadata": {},
   "outputs": [],
   "source": [
    "def elastic_solution(Ri, Re, E, nu, c, Pinf, Pi, r):\n",
    "\n",
    "    u_e      = lambda r: (-(1+nu)/E *(Pinf-Pi)*(Ri/r)**2)*r    # deslocamento em no eixo z\n",
    "    sigma_rr_e = lambda r: (Pinf-Pi)*(Ri/r)**2 - Pinf          # componente de tensão no eixo r\n",
    "    sigma_tt_e = lambda r: -(Pinf-Pi)*(Ri/r)**2 - Pinf         # componente de tensão no eixo teta\n",
    "    sigma_zz_e = lambda r: -2*nu*Pinf + (r*0)                  # componente de tensão no eixo z\n",
    "\n",
    "    u       = u_e(r)\n",
    "    sigma_r = sigma_rr_e(r)\n",
    "    sigma_t = sigma_tt_e(r)\n",
    "    sigma_z = sigma_zz_e(r)\n",
    "\n",
    "    return u, sigma_r, sigma_t, sigma_z"
   ]
  },
  {
   "cell_type": "markdown",
   "id": "915fefb5",
   "metadata": {},
   "source": [
    "Já a solução analítica em elasto-plasticidade pode ser dada pela:\n",
    "- solução elástica, se $0 \\geq y \\geq R_i$; \n",
    "- solução elasto-plástica, se $R_e \\geq y \\geq R_i$. <br>\n",
    "\n",
    "Isso segue a seguinte formulação:"
   ]
  },
  {
   "cell_type": "code",
   "execution_count": null,
   "id": "4e67515e",
   "metadata": {},
   "outputs": [],
   "source": [
    "def elastoplastic_solution(Ri, Re, E, nu, c, Pinf, Pi, r):\n",
    "\n",
    "    y = Ri*np.exp((Pinf-Pi)/(2*c) - (1/2))        # raio plástico\n",
    "\n",
    "    # Solução Elástica\n",
    "    u_e      = lambda r: (-(1+nu)/E *(Pinf-Pi)*(Ri/r)**2)*r\n",
    "    sigma_rr_e = lambda r: (Pinf-Pi)*(Ri/r)**2 - Pinf\n",
    "    sigma_tt_e = lambda r: -(Pinf-Pi)*(Ri/r)**2 - Pinf\n",
    "    sigma_zz_e = lambda r: -2*nu*Pinf + (r*0)\n",
    "\n",
    "    # Solução Elasto-Plástica\n",
    "    u_p1        = lambda r: ((1+nu)/E*( (-2*(1-nu)*c*(y/r)**2) + ((1-2*nu)*(Pinf-Pi-(2*c*np.log(r/Ri)))) ))*r\n",
    "    sigma_rr_p1 = lambda r: (-2*c*np.log(r/Ri)) - Pi\n",
    "    sigma_tt_p1 = lambda r: (-2*c*(1+np.log(r/Ri))) - Pi  \n",
    "    sigma_zz_p1 = lambda r: 2*nu*(Pi - (2*c*(np.log(r/Ri)+1/2)) )\n",
    "\n",
    "    u_p2        = lambda r: (-(1+nu)/E*c*(y/r)**2)*r\n",
    "    sigma_rr_p2 = lambda r: c*(y/r)**2 - Pinf   \n",
    "    sigma_tt_p2 = lambda r: -c*(y/r)**2 - Pinf\n",
    "    sigma_zz_p2 = lambda r: -2*nu*Pinf\n",
    "\n",
    "    # Deslocamentos e tensões\n",
    "    if 0 <= y <=Ri:                         # solução elástica\n",
    "        u       = u_e(r)\n",
    "        sigma_r = sigma_rr_e(r)\n",
    "        sigma_t = sigma_tt_e(r)\n",
    "        sigma_z = sigma_zz_e(r)\n",
    "\n",
    "    elif Ri <= y <= Re:                     # solução elasto-plástica\n",
    "        if isinstance(r, (collections.Sequence, np.ndarray)):\n",
    "            u       = np.zeros(len(r))\n",
    "            sigma_r = np.zeros(len(r))\n",
    "            sigma_t = np.zeros(len(r))\n",
    "            sigma_z = np.zeros(len(r))\n",
    "\n",
    "            for i in range(len(r)):\n",
    "                if r[i] <= y:\n",
    "                    u[i]       = u_p1(r[i])\n",
    "                    sigma_r[i] = sigma_rr_p1(r[i])\n",
    "                    sigma_t[i] = sigma_tt_p1(r[i])\n",
    "                    sigma_z[i] = sigma_zz_p1(r[i])\n",
    "                elif r[i] > y:\n",
    "                    u[i]       = u_p2(r[i])\n",
    "                    sigma_r[i] = sigma_rr_p2(r[i])\n",
    "                    sigma_t[i] = sigma_tt_p2(r[i])\n",
    "                    sigma_z[i] = sigma_zz_p2(r[i])\n",
    "        else:\n",
    "            if r <= y:\n",
    "                u       = u_p1(r)\n",
    "                sigma_r = sigma_rr_p1(r)\n",
    "                sigma_t = sigma_tt_p1(r)\n",
    "                sigma_z = sigma_zz_p1(r)\n",
    "            elif r > y:\n",
    "                u       = u_p2(r[i])\n",
    "                sigma_r = sigma_rr_p2(r)\n",
    "                sigma_t = sigma_tt_p2(r)\n",
    "                sigma_z = sigma_zz_p2(r)\n",
    "                    \n",
    "    return u, sigma_r, sigma_t, sigma_z"
   ]
  },
  {
   "cell_type": "markdown",
   "id": "50d78279",
   "metadata": {},
   "source": [
    "Já a curva de convergência é dada por uma parcela inicial elástica (quando $P_i > P_\\infty - c$) e por uma parcela plástica (quando $P_i \\leq P_\\infty - c$), de acordo com:"
   ]
  },
  {
   "cell_type": "code",
   "execution_count": null,
   "id": "ab4e47dd",
   "metadata": {},
   "outputs": [],
   "source": [
    "def convergence_curve(E, nu, c, Pinf, Pi):\n",
    "    \n",
    "    Plim = Pinf - c\n",
    "    \n",
    "    Ui = np.zeros(len(Pi))\n",
    "    for j in range(len(Pi)):\n",
    "        if Pi[j] > Plim:\n",
    "            Ui[j] = ((1 + nu)/E *(Pinf - Pi[j]))\n",
    "    \n",
    "        elif Pi[j] <= Plim: \n",
    "            Ui[j] = (1 + nu)/E * ((2*(1-nu)*c*np.exp((Pinf - Pi[j] - c)/c)) - ((1 - 2*nu)*(Pinf-Pi[j])))\n",
    "    \n",
    "    return Ui"
   ]
  },
  {
   "cell_type": "markdown",
   "id": "872f23eb",
   "metadata": {},
   "source": [
    "Destaca-se que a curva de convergência não varia com a mudança do $R_i$, sendo ela dependente apenas das propriedades do maciço rochoso."
   ]
  },
  {
   "cell_type": "markdown",
   "id": "35d57d12",
   "metadata": {},
   "source": [
    "## 2. Análise do túnel <a name=\"section_2\"></a> \n",
    "\n",
    "Com as funções definidas anteriormente, um túnel com as seguintes propriedades é analisado:"
   ]
  },
  {
   "cell_type": "code",
   "execution_count": null,
   "id": "a5b699cb",
   "metadata": {},
   "outputs": [],
   "source": [
    "Ri = 5            # raio interno [m]\n",
    "Re = Ri*20        # raio externo [m]\n",
    "E  = 403          # módulo de elasticidade [MPa]\n",
    "nu = 0.39         # coefiente de Poison [adimensional]\n",
    "c  = 2.7          # desviador/coesão [MPa]\n",
    "\n",
    "Pinf = 8          # pressão de confinamento do maciço [MPa]\n",
    "Pi   = 0          # pressão interna [MPa]\n",
    "\n",
    "n = 100                        # nº de pontos analisados na solução analítica\n",
    "r = np.linspace(Ri, Re, n)     # variação do raio de acordo com os parâmetros do maciço"
   ]
  },
  {
   "cell_type": "markdown",
   "id": "5d6a0839",
   "metadata": {},
   "source": [
    "Vale ressaltar que os parâmetros do maciço rochoso foram extraídos de Quevedo (2021, p.146) para um maciço argiloso dúctil."
   ]
  },
  {
   "cell_type": "markdown",
   "id": "faa72eaf",
   "metadata": {},
   "source": [
    "### 2.1. Solução Elástica <a name=\"section_21\"></a> \n",
    "\n",
    "Tem-se como solução elástica:"
   ]
  },
  {
   "cell_type": "code",
   "execution_count": null,
   "id": "204d362a",
   "metadata": {},
   "outputs": [],
   "source": [
    "u, sigma_r, sigma_t, sigma_z = elastic_solution(Ri, Re, E, nu, c, Pinf, Pi, r)\n",
    "\n",
    "# Plotagem dos deslocamentos\n",
    "plt.figure(1,figsize=(9,5))\n",
    "plt.plot(r,u, color='#0075c4')\n",
    "plt.grid(True)\n",
    "plt.xlim([r[0],r[-1]])\n",
    "plt.xlabel('r (m)')\n",
    "plt.ylabel('u (m)')\n",
    "plt.title('Deslocamentos')\n",
    "plt.savefig('figures/fig1.svg')\n",
    "\n",
    "# Plotagem das tensões\n",
    "plt.figure(2,figsize=(9,5))\n",
    "plt.plot(r,sigma_r, label=r'$\\sigma_{rr}$', color='#0075c4')\n",
    "plt.plot(r,sigma_t, label=r'$\\sigma_{\\theta\\theta}$', color='#c4b100')\n",
    "plt.plot(r,sigma_z, label=r'$\\sigma_{zz}$', color='#c40013')\n",
    "plt.grid(True)\n",
    "plt.xlim([r[0],r[-1]])\n",
    "plt.xlabel('r (m)')\n",
    "plt.ylabel(r'$\\sigma_{ij}$ (MPa)')\n",
    "plt.legend(loc = 'upper right')\n",
    "plt.title('Tensões')\n",
    "plt.savefig('figures/fig2.svg')\n",
    "\n",
    "# Plotagem da Curva de Convergência\n",
    "plt.figure(3,figsize=(9,5))\n",
    "P = np.linspace(Pinf, 0, n)\n",
    "U = convergence_curve(E, nu, c, Pinf, P)\n",
    "plt.plot(U,P, color='#0075c4')\n",
    "plt.grid(True)\n",
    "plt.xlim([U[0],0.01])\n",
    "plt.ylim([Pinf-c,P[0]])\n",
    "plt.xlabel(r'$U(r_i)/r_i$')\n",
    "plt.ylabel(r'$P_i$ (MPa)')\n",
    "plt.title('Curva de Convergência');\n",
    "plt.savefig('figures/fig3.svg')"
   ]
  },
  {
   "cell_type": "markdown",
   "id": "7ee036b5",
   "metadata": {},
   "source": [
    "<img src=\"figures/fig1.svg\" alt=\"Fig1\" width=\"800px\"/> \n",
    "<br>\n",
    "<img src=\"figures/fig2.svg\" alt=\"Fig2\" width=\"800px\"/> \n",
    "<br>\n",
    "<img src=\"figures/fig3.svg\" alt=\"Fig3\" width=\"800px\"/> "
   ]
  },
  {
   "cell_type": "markdown",
   "id": "cbc1d853",
   "metadata": {},
   "source": [
    "### 2.2. Solução Elasto-plástica <a name=\"section_22\"></a> \n",
    "\n",
    "Já a solução elasto-plástica é:"
   ]
  },
  {
   "cell_type": "code",
   "execution_count": null,
   "id": "1175bbf0",
   "metadata": {},
   "outputs": [],
   "source": [
    "u_ep, sigma_r_ep, sigma_t_ep, sigma_z_ep = elastoplastic_solution(Ri, Re, E, nu, c, Pinf, Pi, r)\n",
    "\n",
    "# Plotagem dos deslocamentos\n",
    "plt.figure(4,figsize=(9,5))\n",
    "plt.plot(r,u_ep, color='#0075c4')\n",
    "plt.grid(True)\n",
    "plt.xlim([r[0],r[-1]])\n",
    "plt.xlabel('r (m)')\n",
    "plt.ylabel('u (m)')\n",
    "plt.title('Deslocamentos')\n",
    "plt.savefig('figures/fig4.svg')\n",
    "\n",
    "# Plotagem das tensões\n",
    "plt.figure(5,figsize=(9,5))\n",
    "plt.plot(r,sigma_r_ep, label=r'$\\sigma_{rr}$', color='#0075c4')\n",
    "plt.plot(r,sigma_t_ep, label=r'$\\sigma_{\\theta\\theta}$', color='#c4b100')\n",
    "plt.plot(r,sigma_z_ep, label=r'$\\sigma_{zz}$', color='#c40013')\n",
    "plt.grid(True)\n",
    "plt.xlim([r[0],r[-1]])\n",
    "plt.xlabel('r (m)')\n",
    "plt.ylabel(r'$\\sigma_{ij}$ (MPa)')\n",
    "plt.legend(loc = 'upper right')\n",
    "plt.title('Tensões')\n",
    "plt.savefig('figures/fig5.svg')\n",
    "\n",
    "# Plotagem da Curva de Convergência\n",
    "plt.figure(6,figsize=(9,5))\n",
    "P = np.linspace(Pinf, 0, n)\n",
    "U = convergence_curve(E, nu, c, Pinf, P)\n",
    "plt.plot(U,P, color='#0075c4')\n",
    "plt.axhline(y = Pinf-c, color = 'k', ls = '--')\n",
    "plt.text(0.067,5.6,'$[Elasticidade]$', color = 'k', zorder = 4, horizontalalignment='center',  \n",
    "         bbox = dict(boxstyle='square,pad=0.2', ec=\"k\", lw=0, fc=\"white\"))\n",
    "plt.text(0.067,4.7,'$[Plasticidade]$', color = 'k', zorder = 4, horizontalalignment='center',  \n",
    "         bbox = dict(boxstyle='square,pad=0.2', ec=\"k\", lw=0, fc=\"white\"))\n",
    "plt.grid(True)\n",
    "plt.xlim([U[0],U[-1]])\n",
    "plt.xlabel(r'$U(r_i)/r_i$')\n",
    "plt.ylabel(r'$P_i$ (MPa)')\n",
    "plt.title('Curva de Convergência')\n",
    "plt.savefig('figures/fig6.svg');"
   ]
  },
  {
   "cell_type": "markdown",
   "id": "e9897178",
   "metadata": {},
   "source": [
    "<img src=\"figures/fig4.svg\" alt=\"Fig4\" width=\"800px\"/> \n",
    "<br>\n",
    "<img src=\"figures/fig5.svg\" alt=\"Fig5\" width=\"800px\"/> \n",
    "<br>\n",
    "<img src=\"figures/fig6.svg\" alt=\"Fig6\" width=\"800px\"/> "
   ]
  },
  {
   "cell_type": "markdown",
   "id": "505c9bac",
   "metadata": {},
   "source": [
    "## 3. Solução numérica <a name=\"section_3\"></a> \n",
    "\n",
    "Os deslocamentos e tensões do mesmo túnel em Elasticidade também são obtidas numericamente utilizando o software ANSYS, conforme o seguinte modelo [(script APDL)](https://1drv.ms/t/s!Agfe7UnleCo1gvJC-6fsjf2_9GO2rw?e=Psn368): \n",
    "<br>\n",
    "<img src=\"Túnel EPD - malha.svg\" alt=\"Modelo numérico do túnel\" width=\"750px\"/> \n",
    "<br>\n",
    "Abaixo são mostrados, respectivamente, os resultados de deslocamento radial e componentes de tensão $\\sigma_{rr}$, $\\sigma_{\\theta\\theta}$ e $\\sigma_{zz}$.\n",
    "<br>\n",
    "<img src=\"figures/Túnel EPD - u.svg\" alt=\"Deslocamentos\" width=\"750px\"/> \n",
    "<img src=\"figures/Túnel EPD - sigmarr.svg\" alt=\"Sigma_rr\" width=\"750px\"/>\n",
    "<img src=\"figures/Túnel EPD - sigmatt.svg\" alt=\"Sigma_tt\" width=\"750px\"/>\n",
    "<img src=\"figures/Túnel EPD - sigmazz.svg\" alt=\"Sigma_zz\" width=\"750px\"/>"
   ]
  },
  {
   "cell_type": "markdown",
   "id": "132adc5a",
   "metadata": {},
   "source": [
    "### 3.1. Comparação das soluções analíticas e numéricas em Elasticidade <a name=\"section_31\"></a> \n",
    "Buscando comparar os resultados analíticos e numéricos, as soluções em Elasticidade são plotadas a seguir."
   ]
  },
  {
   "cell_type": "code",
   "execution_count": null,
   "id": "e542f090",
   "metadata": {},
   "outputs": [],
   "source": [
    "data = pd.read_csv('Results_ANSYS.txt',delim_whitespace=True, header = None,dtype = 'float')\n",
    "\n",
    "S = data[0]+Ri                  # variação do raio\n",
    "u_ansys = data[1]\n",
    "sigma_r_ansys = data[2]\n",
    "sigma_t_ansys = data[3]\n",
    "sigma_z_ansys = data[4]\n",
    "\n",
    "# Plotagem dos deslocamentos\n",
    "plt.figure(7,figsize=(9,5))\n",
    "plt.plot(r,u, label='solução analítica', color='#0075c4')\n",
    "plt.scatter(S,u_ansys, label='solução numérica', color='#0075c4', s=10)\n",
    "plt.grid(True)\n",
    "plt.xlim([r[0],r[-1]])\n",
    "plt.xlabel('r (m)')\n",
    "plt.ylabel('u (m)')\n",
    "plt.legend(loc = 'lower right')\n",
    "plt.title('Deslocamentos')\n",
    "plt.savefig('figures/fig7.svg')\n",
    "\n",
    "# Plotagem das tensões\n",
    "plt.figure(8,figsize=(9,5))\n",
    "plt.plot(r,sigma_r, label=r'$\\sigma_{rr,a}$', color='#0075c4')\n",
    "plt.scatter(S,sigma_r_ansys, label=r'$\\sigma_{rr,n}$', s=10, color='#0075c4')\n",
    "plt.plot(r,sigma_t, label=r'$\\sigma_{\\theta\\theta,a}$', color='#c4b100')\n",
    "plt.scatter(S,sigma_t_ansys, label=r'$\\sigma_{\\theta\\theta,n}$', s=10, color='#c4b100')\n",
    "plt.plot(r,sigma_z, label=r'$\\sigma_{zz,a}$', color='#c40013')\n",
    "plt.scatter(S,sigma_z_ansys, label=r'$\\sigma_{zz,n}$', s=10, color='#c40013')\n",
    "plt.grid(True)\n",
    "plt.xlim([r[0],r[-1]])\n",
    "plt.xlabel('r (m)')\n",
    "plt.ylabel(r'$\\sigma_{ij}$ (MPa)')\n",
    "plt.legend(loc = 'upper right', ncol=3)\n",
    "plt.title('Tensões')\n",
    "plt.savefig('figures/fig8.svg');"
   ]
  },
  {
   "cell_type": "markdown",
   "id": "05e376a7",
   "metadata": {},
   "source": [
    "<img src=\"figures/fig7.svg\" alt=\"Fig7\" width=\"800px\"/> \n",
    "<br>\n",
    "<img src=\"figures/fig8.svg\" alt=\"Fig8\" width=\"800px\"/> "
   ]
  },
  {
   "cell_type": "markdown",
   "id": "b0c9ab74",
   "metadata": {},
   "source": [
    "## 4. Referências <a name=\"section_4\"></a>\n",
    "- QUEVEDO, F. P. M. <b>Análise Computacional das Deformações em Túneis Profundos considerando o Acoplamento Plasticidade-Viscoplasticidade</b>. 2021. 226p. Tese (Doutorado em Engenharia) – Programa de Pós-Graduação em Engenharia Civil, Universidade Federal do Rio Grande do Sul, Porto Alegre. \n",
    "- QUEVEDO, F. P. M.; BERNAUD, D.; MAGHOUS, S. <b>Notas de Aula - Tópicos de Problemas de Interação Solo-Estrutura</b>. 2023. Universidade Federal do Rio Grande do Sul, Porto Alegre."
   ]
  }
 ],
 "metadata": {
  "kernelspec": {
   "display_name": "Python 3 (ipykernel)",
   "language": "python",
   "name": "python3"
  },
  "language_info": {
   "codemirror_mode": {
    "name": "ipython",
    "version": 3
   },
   "file_extension": ".py",
   "mimetype": "text/x-python",
   "name": "python",
   "nbconvert_exporter": "python",
   "pygments_lexer": "ipython3",
   "version": "3.9.7"
  }
 },
 "nbformat": 4,
 "nbformat_minor": 5
}
